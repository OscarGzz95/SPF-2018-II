{
 "cells": [
  {
   "cell_type": "markdown",
   "metadata": {},
   "source": [
    "<img style=\"float: right; margin: 0px 0px 15px 15px;\" src=\"http://www.goddardconsulting.ca/image-files/MonteCarloPaths.jpg\" width=\"250px\" height=\"100px\" />\n",
    "\n",
    "# **¿Qué es una simulación?**\n",
    "> Introducción a la materia y descripción de las herramientas computacionales que se van a utilizar a lo largo del curso. \n"
   ]
  },
  {
   "cell_type": "markdown",
   "metadata": {},
   "source": [
    "___\n",
    "### Simulación\n",
    "- Simulación es una técnica numérica para realizar experimentos en una computadora digital. Estos experimentos involucran ciertos tipos de **modelos** matemáticos y lógicos que describen el comportamientos de sistemas de negocios, económicos, sociales, bilológicos, físicos o químicos a través de largos periodos de tiempo. **(H. Maisel y G.Gnugnoli)**"
   ]
  },
  {
   "cell_type": "markdown",
   "metadata": {},
   "source": [
    "![imagen.png](attachment:imagen.png)"
   ]
  },
  {
   "cell_type": "markdown",
   "metadata": {},
   "source": [
    "**Modelo de simulación:** Es un instrumento que permite <font color = red> imitar </font> el comportamiento de un sistema real mediante un artificio físico o matemático."
   ]
  },
  {
   "cell_type": "markdown",
   "metadata": {},
   "source": [
    "**¿Qué es un sistema? **\n",
    "- Colección de objetos, partes, componentes, etc., que interactúan entre si, dentro de una cierta frontera, para producir un patrón particular o comportamiento. \n",
    "    - Frontera: Es necesaria esta idea para separar al sistema del resto del universo. \n",
    "![imagen.png](attachment:imagen.png)"
   ]
  },
  {
   "cell_type": "markdown",
   "metadata": {},
   "source": [
    "**¿Qué es un modelo? **\n",
    "- Es una <font color = red > abstracción </font> de la realidad.\n",
    "- Es una <font color = red >representación </font> de la realidad que ayuda a entender cómo funciona.\n",
    "- Es una <font color = red >construcción intelectual </font> y descriptiva de una entidad en la cual un observador tiene interés.\n",
    "- Supuestos simples son usados para capturar el comportamiento importante.\n",
    "- Los modelos puedesn ser: Físicos (replicas) - Abstractos (Modelos matemáticos)\n",
    "![imagen.png](attachment:imagen.png)\n",
    "\n",
    "\n",
    "- <font color = red > Modelos mentales </font>: Depende de nuestro punto de vista, suele ser incompletos y no tener un enunciado preciso, no son fácilmente transmisibles. $\\Longrightarrow$ Ideas, conceptualizaciones\n",
    "- <font color = red > Modelos Formales </font>:  Están basados en reglas, son transmisibles. $\\Longrightarrow$\tPlanos, diagramas, maquetas.\n",
    "\n",
    "**Ejercicio**:\n",
    "\n",
    "Diga a qué categoría (mental o formal) pertenecen los siguientes sistemas:\n",
    "1.\tOpinión sobre el nuevo gabinete.\n",
    "2.\tOpinión sobre el nuevo gabinete escrito en El Comercio.\n",
    "3.\tDibujo hecho a mano acerca de la nueva casa.\n",
    "4.\tPlano de la nueva casa.\n",
    "5.\tModelo de clases u objetos del área de ventas.\n",
    "6.\tOrden en que llegan los insumos a una máquina.\n",
    "7.\tDistribución de probabilidad del orden en que llegan los insumos a una máquina.\n",
    "8.\tOrden que sigue un documento para ser aprobado.\n",
    "9.\tFlujo-grama de aprobación de documentos."
   ]
  },
  {
   "cell_type": "markdown",
   "metadata": {},
   "source": [
    "![imagen.png](attachment:imagen.png)"
   ]
  },
  {
   "cell_type": "markdown",
   "metadata": {},
   "source": [
    "# Tipos de modelos\n",
    "![imagen.png](attachment:imagen.png)\n",
    "\n",
    "- **Estocástico**. Uno o más parámetros aleatorios. Entradas fijas produce salidas diferentes\n",
    "- **Determinístico**. Entradas fijas producen salidas fijas\n",
    "- **Estático**. Estado del sistema como un punto en el tiempo\n",
    "- **Dinámico**. Estado del sistema como cambios en el tiempo\n",
    "- **Tiempo-continuo**. El modelo permite que los estados del sistema cambien en cualquier momento.\n",
    "- **Tiempo-discreto**. Los cambios de estado del sistema se dan en momentos discretos del tiempo.\n"
   ]
  },
  {
   "cell_type": "markdown",
   "metadata": {},
   "source": [
    "- ## Estocástico - Determinístico\n",
    "![imagen.png](attachment:imagen.png)"
   ]
  },
  {
   "cell_type": "markdown",
   "metadata": {},
   "source": [
    "- ## Continuo - Discreto\n",
    "![imagen.png](attachment:imagen.png)"
   ]
  },
  {
   "cell_type": "markdown",
   "metadata": {},
   "source": [
    "- ## Estático - Dinámico\n",
    "![imagen.png](attachment:imagen.png)"
   ]
  },
  {
   "cell_type": "markdown",
   "metadata": {},
   "source": [
    "## Ejercicio:\n",
    "Para los siguientes sistemas, determine la variable de interés y el tipo de sistema:\n",
    "![imagen.png](attachment:imagen.png)"
   ]
  },
  {
   "cell_type": "markdown",
   "metadata": {},
   "source": [
    "# Simulación\n",
    "- Es la construcción de **modelos informáticos** que describen la parte **esencial** del comportamiento de un sistema de interés, así como diseñar y realizar **experimentos** con el modelo y extraer **conclusiones** de sus resultados para apoyar la <font color = red>toma de decisiones.</font>\n",
    "- Permite **experimentar** con sistemas (reales o propuestos) en casos en los que de otra manera esto sería imposible o impráctico.\n",
    "![imagen.png](attachment:imagen.png)"
   ]
  },
  {
   "cell_type": "markdown",
   "metadata": {},
   "source": [
    "## Estructura de un modelo de simulación\n",
    "$$\n",
    "S_i=f(c_i,n_i)\n",
    "$$\n",
    "![imagen.png](attachment:imagen.png)\n",
    "* $c_i$: variable exógena controlable\n",
    "* $n_i$: variable exógena no controlable\n",
    "* $e_i$: variable endógena (estado del sistema)\n",
    "* $S_i$: variable endógena (salida del sistema)\n"
   ]
  },
  {
   "cell_type": "markdown",
   "metadata": {},
   "source": [
    "## Ejercicio\n",
    "- Simular el comportamiento del siguiente sistema para 10 unidades de tiempo, $k$ = 2 y $y_0$ = -2\n",
    "- ¿A qué tipo de modelo corresponde?\n",
    "![imagen.png](attachment:imagen.png)"
   ]
  },
  {
   "cell_type": "code",
   "execution_count": 1,
   "metadata": {
    "collapsed": false
   },
   "outputs": [
    {
     "name": "stdout",
     "output_type": "stream",
     "text": [
      "[-2, 0, 2, 4, 6, 8, 10, 12, 14, 16, 18]\n"
     ]
    }
   ],
   "source": [
    "n = 10     # Se desean simular 10 unidades de tiempo\n",
    "y0 = -2    # Condición inicial del sistema\n",
    "k = 2      # valor numérico del parámetro\n",
    "y = [y0]   # Almacenamiento de la condición inicial en el vector solución\n",
    "for i in range(n):\n",
    "    y= y + [y[i]+k] # solución de modelo propuesto \n",
    "print(y)   # Impresión de los resultadaos     "
   ]
  },
  {
   "cell_type": "markdown",
   "metadata": {},
   "source": [
    "_Caracteristicas_ \n",
    "- Deterministicas\n",
    "- Estocásticos o probabilisticos. \n",
    "\n",
    "_Aplicación a sistemas._\n",
    "- <font color= red > Estado dinámico </font> (incluye relaciones estacionarias como un caso especial)\n",
    "\n",
    "**Simulaciones continuas se tratarán como deterministas.**\n",
    "- Conjunto de ecuaciones diferencias (ordinarias, parciales)\n",
    "    \n",
    "**Simulaciones discretas como estocásticas.**\n",
    "- Conjunto de ecuaciones algebraicas."
   ]
  },
  {
   "cell_type": "markdown",
   "metadata": {},
   "source": [
    "## ¿Porqué hacer simulación?\n",
    "- No existe una completa formulación matemática del problema (líneas de espera, problemas nuevos).\n",
    "- No se puede interrumpir la operación del sistema actual (plantas eléctricas, carreteras, hospitales).\n",
    "- Reducción de costos: la simulación es mucho menos costosa que la experimentación en la vida real.\n",
    "- Es necesario desarrollar experimentos, pero su ejecución en la realidad es difícil o imposible (armas, medicamentos, campañas de marketing)\n",
    "- Se puede determinar el impacto potencial de eventos aleatorios (inversión).\n",
    "- Evaluar si ciertos procesos son viables (determinar el impacto a largo plazo).\n",
    "- ..."
   ]
  },
  {
   "cell_type": "markdown",
   "metadata": {},
   "source": [
    "<img style=\"center\" src=\"https://upload.wikimedia.org/wikipedia/commons/4/4a/FAE_visualization.jpg\" width=\"250px\" height=\"200px\" alt=\"atom\" />"
   ]
  },
  {
   "cell_type": "markdown",
   "metadata": {},
   "source": [
    "_Referencia:_ \n",
    "_Simulation Fundamentals,  B. S. Bennett_\n",
    "\n"
   ]
  },
  {
   "cell_type": "markdown",
   "metadata": {},
   "source": [
    "## ¿Cuándo no es apropiado simular?\n",
    "- El desarrollo del  modelo de simulación requiere mucho tiempo.\n",
    "- El desarrollo del  modelo es costoso comparado con sus beneficios.\n",
    "- La simulación es imprecisa y no se puede medir su imprecisión. (El análisis de sensibilidad puede ayudar).\n"
   ]
  },
  {
   "cell_type": "markdown",
   "metadata": {},
   "source": [
    "## Ejemplos de uso de simulación\n",
    "- **Simulación de un proyecto de inversión:** existen en la práctica una gran cantidad de proyectos de inversión donde la incertidumbre con respecto a los flujos de efectivo que el proyecto genera a las tasas de interés, a las tasas de inflación, etc., hacen difícil y a veces imposible manejar analíticamente este tipo de problemas. Para este tipo de situaciones el uso de simulación es ampliamente recomendado.\n",
    "- **Simulación de estados financieros:** la expansión y diversificación de una organización a través de la adquisición y establecimiento de nuevas empresas, repercuten significativamente en su posición y estructura financiera. Por consiguiente, el uso de simulación permite analizar cuál de las estrategias de crecimiento son las que llevarán a la organización al logro de sus objetivos y metas de corto, mediano y largo plazo."
   ]
  },
  {
   "cell_type": "markdown",
   "metadata": {},
   "source": [
    "### Herramientas computacionales"
   ]
  },
  {
   "cell_type": "markdown",
   "metadata": {},
   "source": [
    "### - [python](https://www.python.org) - [anaconda](https://www.continuum.io/downloads) - [jupyter](http://jupyter.org)"
   ]
  },
  {
   "cell_type": "markdown",
   "metadata": {},
   "source": [
    " <div>\n",
    "<img style=\"float: left; margin: 0px 0px 15px 15px;\" src=\"https://www.python.org/static/community_logos/python-logo.png\" width=\"200px\" height=\"200px\" alt=\"atom\" />\n",
    "<img style=\"float: left; margin: 0px 0px 15px 15px;\" src=\"https://upload.wikimedia.org/wikipedia/en/c/cd/Anaconda_Logo.png\" width=\"120\" />\n",
    "<img style=\"float: left; margin: 0px 0px 15px 15px;\" src=\"http://jupyter.org/assets/main-logo.svg\" width=\"80\" />\n"
   ]
  },
  {
   "cell_type": "markdown",
   "metadata": {},
   "source": [
    "## No confundir Anaconda con esto ! "
   ]
  },
  {
   "cell_type": "code",
   "execution_count": 2,
   "metadata": {
    "collapsed": false
   },
   "outputs": [
    {
     "data": {
      "image/jpeg": "[encoded data removed]",
      "text/html": [
       "\n",
       "        <iframe\n",
       "            width=\"400\"\n",
       "            height=\"300\"\n",
       "            src=\"https://www.youtube.com/embed/LDZX4ooRsWs\"\n",
       "            frameborder=\"0\"\n",
       "            allowfullscreen\n",
       "        ></iframe>\n",
       "        "
      ],
      "text/plain": [
       "<IPython.lib.display.YouTubeVideo at 0x1bb06d42160>"
      ]
     },
     "execution_count": 2,
     "metadata": {},
     "output_type": "execute_result"
    }
   ],
   "source": [
    "from IPython.display import YouTubeVideo\n",
    "YouTubeVideo('LDZX4ooRsWs')"
   ]
  },
  {
   "cell_type": "markdown",
   "metadata": {},
   "source": [
    "## Herramientas adicionales"
   ]
  },
  {
   "cell_type": "markdown",
   "metadata": {},
   "source": [
    "- [Markdown](https://confluence.atlassian.com/bitbucketserver/markdown-syntax-guide-776639995.html)\n",
    "- [git](https://git-scm.com)\n",
    "- [GitHub](https://github.com)"
   ]
  },
  {
   "cell_type": "markdown",
   "metadata": {},
   "source": [
    "### Encabezado\n",
    "- **1**\n",
    "    - *1.1*\n",
    "    - *1.2*\n",
    "- **2**\n",
    "    - *2.1*\n",
    "    - *2.2*"
   ]
  },
  {
   "cell_type": "markdown",
   "metadata": {},
   "source": [
    "### Tablas\n",
    "| Day     | Meal    | Price |\n",
    "| --------|---------|-------|\n",
    "| Monday  | pasta   | $\\$6$    |\n",
    "| Tuesday | chicken | $\\$8$    |"
   ]
  },
  {
   "cell_type": "markdown",
   "metadata": {},
   "source": [
    "### jupyter notebook"
   ]
  },
  {
   "cell_type": "markdown",
   "metadata": {},
   "source": [
    "- Aprender a usar el jupyter notebook\n",
    "   - Los notebooks tienen celdas de entrada y generalmente celdas de salida, así como celdas de texto. Las celdas de texto es lo que estas leyendo ahora. Las celdas de código inician con \"In []:\" con algún numero en los brackets. Si te colocas sobre una salda de entrada y presionas Shift-Enter, el código correrá en el <Strong> interprete </Strong> de python y el resultado se imprimirá en la celda de salida. "
   ]
  },
  {
   "cell_type": "markdown",
   "metadata": {},
   "source": [
    "**Trabajando con el notebook**"
   ]
  },
  {
   "cell_type": "markdown",
   "metadata": {},
   "source": [
    "Además de poder realizar progrmación, tiene otras ventajas. Por ejemplo, como ya se dieron cuenta toda esta presentación esta hecha con el notebook. Además de eso, también se puede incluir directamente dentro de este documento, código <font color=\"blue\"> HTML </font>. \n",
    "\n",
    "Uno de los atractivos más relevantes (personalmente) es que puedes escribir ecuaciones estilo $\\LaTeX$, esto es gracias al proyecto [MathJax](https://www.mathjax.org) el cual se especializa en que podamos publicar matemáticas en línea. A continuación, se muestra una ejemplo. "
   ]
  },
  {
   "cell_type": "markdown",
   "metadata": {},
   "source": [
    "___\n",
    ">Ecuaciones de Maxwell:\n",
    ">$$\\nabla\\cdot \\mathbf{D}=\\rho\\quad \\nabla\\cdot \\mathbf{B}=0\\quad \\nabla\\times \\mathbf{E}=-\\frac{\\partial \\mathbf{B}}{\\partial t}\\quad \\nabla\\times \\mathbf{H} = \\mathbf{J} +\\frac{\\partial \\mathbf{D}}{\\partial t}$$\n",
    "\n",
    "___"
   ]
  },
  {
   "cell_type": "markdown",
   "metadata": {},
   "source": [
    "___\n",
    ">Ecuación de Bernoulli:\n",
    ">$$P_1+\\frac{1}{2}\\rho v_1^2+\\rho g h_1=P_2+\\frac{1}{2}\\rho v_2^2+\\rho g h_2,$$\n",
    ">donde:\n",
    ">- $P_1$, $v_1$ y $h_1$ es la presión, la velocidad y la altura en el punto 1,\n",
    ">- $P_2$, $v_2$ y $h_2$ es la presión, la velocidad y la altura en el punto 2,\n",
    ">- $\\rho$ es la densidad del fluido, y\n",
    ">- $g$ es la aceleración de gravedad.\n",
    "\n",
    "___\n",
    "\n",
    "https://es.khanacademy.org/science/physics/fluids/fluid-dynamics/a/what-is-bernoullis-equation"
   ]
  },
  {
   "cell_type": "markdown",
   "metadata": {},
   "source": [
    "___\n",
    ">Capitalización por *interés compuesto*:\n",
    ">$$C_k=C_0(1+i)^k,$$\n",
    ">donde:\n",
    ">- $C_k$ es el capital al final del $k$-ésimo periodo,\n",
    ">- $C_0$ es el capital inicial,\n",
    ">- $i$ es la tasa de interés pactada, y\n",
    ">- $k$ es el número de periodos.\n",
    "\n",
    "___\n",
    "https://es.wikipedia.org/wiki/Inter%C3%A9s_compuesto"
   ]
  },
  {
   "cell_type": "markdown",
   "metadata": {},
   "source": [
    "#### Archivos de python (script)\n",
    "- Estos son simplemente archivos de texto con la extensión .py\n",
    "     - user $ python miprograma.py\n",
    "- Cada linea en el archivo es una declaración de código en python, o parte del código. "
   ]
  },
  {
   "cell_type": "markdown",
   "metadata": {},
   "source": [
    "#### Programa de bienvenida. \n",
    "welcome.py"
   ]
  },
  {
   "cell_type": "code",
   "execution_count": 3,
   "metadata": {
    "collapsed": false
   },
   "outputs": [
    {
     "name": "stdout",
     "output_type": "stream",
     "text": [
      "Hola, bienvenida o bienvenido a simulación matemática. Me puedes llamar Alice y me gustaría saber un poco acerca de ti, por ejemplo ¿Cuál es tu nombre?  >> oscar\n",
      "Gusto en conocerte oscar, espero que te guste el curso. Ahora, me gustaría saber donde vives oscar, ¿cuál es tu ciudad?  >> zapopan\n",
      "Mmm... ¿eso es una ciudad real? zapopan. Bueno, después lo investigo. ¿Qué edad tienes?  >> 27\n",
      "¿Te ha gustado esta bienvenida?  >> si\n",
      "Muy bien oscar, dices que si te gustó la bienvenida. Tú vives en zapopan, ya dije que voy a investigar donde es eso. Y además estas por cumplir 28 años. Fue un gusto conocerte, hasta pronto! "
     ]
    }
   ],
   "source": [
    "%run welcome.py"
   ]
  },
  {
   "cell_type": "markdown",
   "metadata": {},
   "source": [
    "> **Actividad: (Usando notebook de jupyter)** \n",
    "\n",
    "> Usando compresión de listas (sino recuerda como funciona observar el siguiente enlace https://www.pythonforbeginners.com/lists/list-comprehensions-in-python/), resolver los siguientes ejercicios:\n",
    "    1. Find all of the numbers from 1-1000 that are divisible by 7.\n",
    "    2. Find all of the numbers from 1-1000 that have a 3 in them.\n",
    "    3. Count the number of spaces in a string.\n",
    "    4. Remove all of the vowels in a string [make a list of the non-vowels].\n",
    "    5. Find all of the words in a string that are less than 4 letters.\n",
    "> **CHALLENGE!**\n",
    "    6. Use a dictionary comprehension to count the length of each word in a sentence.\n",
    "    7. Use a nested list comprehension to find all of the numbers from 1-1000 that are divisible by any single digit besides 1 (2-9).   "
   ]
  },
  {
   "cell_type": "markdown",
   "metadata": {},
   "source": [
    "<script>\n",
    "  $(document).ready(function(){\n",
    "    $('div.prompt').hide();\n",
    "    $('div.back-to-top').hide();\n",
    "    $('nav#menubar').hide();\n",
    "    $('.breadcrumb').hide();\n",
    "    $('.hidden-print').hide();\n",
    "  });\n",
    "</script>\n",
    "\n",
    "<footer id=\"attribution\" style=\"float:right; color:#808080; background:#fff;\">\n",
    "Created with Jupyter by Lázaro Alonso. Modified by Oscar David Jaramillo Zuluaga.\n",
    "</footer>"
   ]
  }
 ],
 "metadata": {
  "anaconda-cloud": {},
  "kernelspec": {
   "display_name": "Python [Root]",
   "language": "python",
   "name": "Python [Root]"
  },
  "language_info": {
   "codemirror_mode": {
    "name": "ipython",
    "version": 3
   },
   "file_extension": ".py",
   "mimetype": "text/x-python",
   "name": "python",
   "nbconvert_exporter": "python",
   "pygments_lexer": "ipython3",
   "version": "3.5.2"
  }
 },
 "nbformat": 4,
 "nbformat_minor": 1
}
